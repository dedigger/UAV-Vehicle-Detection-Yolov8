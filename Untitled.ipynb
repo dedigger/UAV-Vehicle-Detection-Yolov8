{
 "cells": [
  {
   "cell_type": "code",
   "execution_count": 1,
   "id": "18f393bf-546c-4fc3-97ea-ed216cbfcead",
   "metadata": {},
   "outputs": [
    {
     "ename": "SyntaxError",
     "evalue": "invalid character '，' (U+FF0C) (__init__.py, line 61)",
     "output_type": "error",
     "traceback": [
      "Traceback \u001b[1;36m(most recent call last)\u001b[0m:\n",
      "\u001b[0m  File \u001b[0;32m~\\AppData\\Roaming\\Python\\Python311\\site-packages\\IPython\\core\\interactiveshell.py:3548\u001b[0m in \u001b[0;35mrun_code\u001b[0m\n    exec(code_obj, self.user_global_ns, self.user_ns)\u001b[0m\n",
      "\u001b[0m  Cell \u001b[0;32mIn[1], line 1\u001b[0m\n    from ultralytics import YOLO  # 确保ultralytics库已经安装\u001b[0m\n",
      "\u001b[0m  File \u001b[0;32m~\\Desktop\\AFPN+BRA\\ultralytics\\__init__.py:11\u001b[0m\n    from ultralytics.models import NAS, RTDETR, SAM, YOLO, FastSAM, YOLOWorld\u001b[0m\n",
      "\u001b[0m  File \u001b[0;32m~\\Desktop\\AFPN+BRA\\ultralytics\\models\\__init__.py:3\u001b[0m\n    from .fastsam import FastSAM\u001b[0m\n",
      "\u001b[0m  File \u001b[0;32m~\\Desktop\\AFPN+BRA\\ultralytics\\models\\fastsam\\__init__.py:3\u001b[0m\n    from .model import FastSAM\u001b[0m\n",
      "\u001b[0m  File \u001b[0;32m~\\Desktop\\AFPN+BRA\\ultralytics\\models\\fastsam\\model.py:5\u001b[0m\n    from ultralytics.engine.model import Model\u001b[0m\n",
      "\u001b[0m  File \u001b[0;32m~\\Desktop\\AFPN+BRA\\ultralytics\\engine\\model.py:12\u001b[0m\n    from ultralytics.engine.results import Results\u001b[0m\n",
      "\u001b[0m  File \u001b[0;32m~\\Desktop\\AFPN+BRA\\ultralytics\\engine\\results.py:15\u001b[0m\n    from ultralytics.data.augment import LetterBox\u001b[0m\n",
      "\u001b[0m  File \u001b[0;32m~\\Desktop\\AFPN+BRA\\ultralytics\\data\\__init__.py:3\u001b[0m\n    from .base import BaseDataset\u001b[0m\n",
      "\u001b[0m  File \u001b[0;32m~\\Desktop\\AFPN+BRA\\ultralytics\\data\\base.py:17\u001b[0m\n    from ultralytics.data.utils import FORMATS_HELP_MSG, HELP_URL, IMG_FORMATS\u001b[0m\n",
      "\u001b[0m  File \u001b[0;32m~\\Desktop\\AFPN+BRA\\ultralytics\\data\\utils.py:18\u001b[0m\n    from ultralytics.nn.autobackend import check_class_names\u001b[0m\n",
      "\u001b[0m  File \u001b[0;32m~\\Desktop\\AFPN+BRA\\ultralytics\\nn\\__init__.py:3\u001b[0m\n    from .tasks import (\u001b[0m\n",
      "\u001b[1;36m  File \u001b[1;32m~\\Desktop\\AFPN+BRA\\ultralytics\\nn\\tasks.py:12\u001b[1;36m\n\u001b[1;33m    from ultralytics.nn.modules import (\u001b[1;36m\n",
      "\u001b[1;36m  File \u001b[1;32m~\\Desktop\\AFPN+BRA\\ultralytics\\nn\\modules\\__init__.py:61\u001b[1;36m\u001b[0m\n\u001b[1;33m    BiLevelRoutingAttention，\u001b[0m\n\u001b[1;37m                           ^\u001b[0m\n\u001b[1;31mSyntaxError\u001b[0m\u001b[1;31m:\u001b[0m invalid character '，' (U+FF0C)\n"
     ]
    }
   ],
   "source": [
    "from ultralytics import YOLO  # 确保ultralytics库已经安装\n",
    "\n",
    "def train():\n",
    "    # 加载模型\n",
    "    model = YOLO(\"yolov8-AFPN-BRA.yaml\")  # 加载YOLOv8模型配置\n",
    "\n",
    "    # 训练模型\n",
    "    results = model.train(data=\"mycoco(1).yaml\", epochs=100)  # 指定数据集配置文件和训练轮数\n",
    "\n",
    "if __name__ == \"__main__\":\n",
    "    train()"
   ]
  },
  {
   "cell_type": "code",
   "execution_count": null,
   "id": "a66afb93-fdb3-4923-bfeb-8b0bad388a6c",
   "metadata": {},
   "outputs": [],
   "source": []
  }
 ],
 "metadata": {
  "kernelspec": {
   "display_name": "Python 3 (ipykernel)",
   "language": "python",
   "name": "python3"
  },
  "language_info": {
   "codemirror_mode": {
    "name": "ipython",
    "version": 3
   },
   "file_extension": ".py",
   "mimetype": "text/x-python",
   "name": "python",
   "nbconvert_exporter": "python",
   "pygments_lexer": "ipython3",
   "version": "3.11.7"
  }
 },
 "nbformat": 4,
 "nbformat_minor": 5
}
